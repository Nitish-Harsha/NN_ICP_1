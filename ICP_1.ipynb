{
  "nbformat": 4,
  "nbformat_minor": 0,
  "metadata": {
    "colab": {
      "provenance": []
    },
    "kernelspec": {
      "name": "python3",
      "display_name": "Python 3"
    },
    "language_info": {
      "name": "python"
    }
  },
  "cells": [
    {
      "cell_type": "code",
      "execution_count": null,
      "metadata": {
        "colab": {
          "base_uri": "https://localhost:8080/",
          "height": 70
        },
        "id": "sIuHeIYkAwTi",
        "outputId": "8f88fd64-9763-45ca-8810-463dde8b6af4"
      },
      "outputs": [
        {
          "name": "stdout",
          "output_type": "stream",
          "text": [
            "Enter your first name: Nitish Harsha\n",
            "Enter your last name: Somarapu\n"
          ]
        },
        {
          "output_type": "execute_result",
          "data": {
            "text/plain": [
              "'Nitish Harsha Somarapu'"
            ],
            "application/vnd.google.colaboratory.intrinsic+json": {
              "type": "string"
            }
          },
          "metadata": {},
          "execution_count": 17
        }
      ],
      "source": [
        "first_name = input(\"Enter your first name: \")\n",
        "last_name = input(\"Enter your last name: \")\n",
        "full_name = first_name + \" \" + last_name\n",
        "full_name"
      ]
    },
    {
      "cell_type": "code",
      "source": [
        "def string_alternative(full_name):\n",
        "    return full_name[::2]\n",
        "result = string_alternative(full_name)\n",
        "result"
      ],
      "metadata": {
        "colab": {
          "base_uri": "https://localhost:8080/",
          "height": 36
        },
        "id": "BlHrcw9NG7nR",
        "outputId": "9a03e4da-3d3f-4fa0-d049-cf43263baecf"
      },
      "execution_count": null,
      "outputs": [
        {
          "output_type": "execute_result",
          "data": {
            "text/plain": [
              "'Nts asaSmrp'"
            ],
            "application/vnd.google.colaboratory.intrinsic+json": {
              "type": "string"
            }
          },
          "metadata": {},
          "execution_count": 18
        }
      ]
    },
    {
      "cell_type": "code",
      "source": [
        "with open(\"input.txt\") as f:\n",
        "    lines = f.readlines()\n",
        "word_count = {}\n",
        "for line in lines:\n",
        "    for word in line.split():\n",
        "        word_count[word] = word_count.get(word, 0) + 1\n",
        "with open(\"output.txt\", \"w\") as f:\n",
        "    f.writelines(lines)\n",
        "    f.write(\"\\nWord_Count:\\n\")\n",
        "    for word, count in word_count.items():\n",
        "        f.write(f\"{word}: {count}\\n\")\n",
        "        print(f\"{word}: {count}\")"
      ],
      "metadata": {
        "colab": {
          "base_uri": "https://localhost:8080/"
        },
        "id": "89MJU91YD0QY",
        "outputId": "a802103e-65f2-4be3-c72a-0facd6aebf79"
      },
      "execution_count": null,
      "outputs": [
        {
          "output_type": "stream",
          "name": "stdout",
          "text": [
            "Python: 1\n",
            "Course: 2\n",
            "Deep: 1\n",
            "Learning: 1\n"
          ]
        }
      ]
    },
    {
      "cell_type": "code",
      "source": [
        "heights_in_inches = list(map(int, input(\"Enter heights in inches: \").split()))\n",
        "\n",
        "heights_in_cm_loop = []\n",
        "for height in heights_in_inches:\n",
        "    heights_in_cm_loop.append(round(height * 2.54, 2))\n",
        "\n",
        "heights_in_cm_comp = [round(height * 2.54, 2) for height in heights_in_inches]\n",
        "print(\"Using loop:\", heights_in_cm_loop)\n",
        "print(\"Using comprehension:\", heights_in_cm_comp)"
      ],
      "metadata": {
        "colab": {
          "base_uri": "https://localhost:8080/"
        },
        "id": "5yHXUo48GgSI",
        "outputId": "1001dda5-da3d-49cc-e8cc-1b94dfb4659b"
      },
      "execution_count": null,
      "outputs": [
        {
          "output_type": "stream",
          "name": "stdout",
          "text": [
            "Enter heights in inches: 150 140 120 130\n",
            "Using loop: [381.0, 355.6, 304.8, 330.2]\n",
            "Using comprehension: [381.0, 355.6, 304.8, 330.2]\n"
          ]
        }
      ]
    }
  ]
}